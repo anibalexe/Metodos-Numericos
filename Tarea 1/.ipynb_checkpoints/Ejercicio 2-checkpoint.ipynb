{
 "cells": [
  {
   "cell_type": "code",
   "execution_count": 4,
   "metadata": {},
   "outputs": [
    {
     "name": "stdout",
     "output_type": "stream",
     "text": [
      "El valor de A es: 4, El valor de b es: -1\n",
      "La raiz aproximada es: 3.872983870967742, El error relativo es: 1.3549253329097396e-7\n"
     ]
    }
   ],
   "source": [
    "#La funcion recibe un numero para encontrar su raiz cuadrada\n",
    "function raizCuadradaDeNumeroNoCuadrado(numero)\n",
    "    cont = 1\n",
    "    cuadrado = numero + 1\n",
    "    auxnum = numero\n",
    "    A = 0.0\n",
    "    b = 0.0\n",
    "    c = 0.0\n",
    "    raizReal = sqrt(numero)\n",
    "    errorRelativo = 0.0\n",
    "    \n",
    "    #El ciclo se repite para encontrar un numero que multiplicado por si mismo de como resultado un cuadrado menor que el numero\n",
    "    while cuadrado > numero\n",
    "        auxnum -= 1\n",
    "        cuadrado = (auxnum)^2\n",
    "\n",
    "    end\n",
    "    \n",
    "    #Calcula si el cuadrado mas cercano por abajo tiene menor distacia que el cuadrado mas cercano por arriba del numero\n",
    "    if abs(numero - (auxnum^2)) < abs(numero - ((auxnum + 1)^2))\n",
    "        A = auxnum\n",
    "        b = numero - (auxnum^2)\n",
    "        \n",
    "    else\n",
    "        A = auxnum + 1\n",
    "        b = numero - ((auxnum + 1)^2)\n",
    "        \n",
    "    end\n",
    "    \n",
    "    println(\"El valor de A es: \",A,\", El valor de b es: \",b)\n",
    "    #Calcula la raiz aproximada del numero\n",
    "    c = (b/(2*A))\n",
    "    raizAproximada = A + c - ((c^2)/(2*(A + c)))\n",
    "    #Calcula el error relativo \n",
    "    errorRelativo = abs(raizReal - raizAproximada)/raizReal\n",
    "    println(\"La raiz aproximada es: \",raizAproximada,\", El error relativo es: \",errorRelativo)\n",
    "    \n",
    "end\n",
    "\n",
    "#Primer caso de prueba\n",
    "raizCuadradaDeNumeroNoCuadrado(15)"
   ]
  },
  {
   "cell_type": "code",
   "execution_count": 5,
   "metadata": {},
   "outputs": [
    {
     "name": "stdout",
     "output_type": "stream",
     "text": [
      "El valor de A es: 11, El valor de b es: -10\n",
      "La raiz aproximada es: 10.535658307210031, El error relativo es: 4.3228046402348594e-7\n"
     ]
    }
   ],
   "source": [
    "#Segundo caso de prueba\n",
    "raizCuadradaDeNumeroNoCuadrado(111)"
   ]
  },
  {
   "cell_type": "code",
   "execution_count": 6,
   "metadata": {},
   "outputs": [
    {
     "name": "stdout",
     "output_type": "stream",
     "text": [
      "El valor de A es: 9, El valor de b es: -2\n",
      "La raiz aproximada es: 8.888194444444444, El error relativo es: 3.052234720873701e-9\n"
     ]
    }
   ],
   "source": [
    "#Tercer caso de prueba\n",
    "raizCuadradaDeNumeroNoCuadrado(79)"
   ]
  },
  {
   "cell_type": "code",
   "execution_count": 14,
   "metadata": {},
   "outputs": [
    {
     "name": "stdout",
     "output_type": "stream",
     "text": [
      "El error relativo absoluto es: 0.2264447262990153, El error relativo aproximado es: 0.5789473684210527\n",
      "El error relativo absoluto es: 0.02090482064502521, El error relativo aproximado es: 0.20133111480865223\n",
      "El error relativo absoluto es: 0.00021403147353377263, El error relativo aproximado es: 0.020686361639027786\n",
      "El error relativo absoluto es: 2.2899834568046853e-8, El error relativo aproximado es: 0.00021400856879844374\n",
      "El error relativo absoluto es: 2.293266818639604e-16, El error relativo aproximado es: 2.2899834338720164e-8\n",
      "La raiz es: 3.872983346207418\n"
     ]
    }
   ],
   "source": [
    "using Plots\n",
    "#Se copio la funcion del ejercicio 1 para hacer la comparacion con el segundo metodo\n",
    "#La funcion recibe un numero para sacar su raiz, \n",
    "#la cantidad de iteraciones para llegar a un resultado y el error para llegar a un resultado\n",
    "function divideYPromedia(a, cantIteraciones, error)\n",
    "    xviejo = a/2\n",
    "    xnuevo = 0.0\n",
    "    raizReal = sqrt(a)\n",
    "    errorRelativoAbs = 0.0\n",
    "    errorRelativoAprox = 1.0\n",
    "    x = []\n",
    "    erroresRelativosAprox = []\n",
    "    erroresRelativosAbs = []\n",
    "    cont = 1\n",
    "    \n",
    "    #El ciclo se repite mientras el error reativo aproximado sea mayor al error entregado por el usuario\n",
    "    while cont <= cantIteraciones\n",
    "        #Calcula la actualización de x\n",
    "        xnuevo = (xviejo + (a/xviejo))/2\n",
    "        #Calcula el error relativo aproximado\n",
    "        errorRelativoAprox = (abs(xnuevo - xviejo))/xnuevo\n",
    "        #Almacena los errores relativos aproximados\n",
    "        append!(erroresRelativosAprox, [errorRelativoAprox])\n",
    "        xviejo = xnuevo\n",
    "        errorRelativoAbs = (abs(raizReal - xnuevo))/raizReal\n",
    "        #Almacena los errores relativos absolutos\n",
    "        append!(erroresRelativosAbs, [errorRelativoAbs])\n",
    "        println(\"El error relativo absoluto es: \",errorRelativoAbs,\", El error relativo aproximado es: \",errorRelativoAprox)\n",
    "        #Almacena los ciclos que recorrio\n",
    "        append!(x, [cont])\n",
    "        cont += 1\n",
    "    end\n",
    "    println(\"La raiz es: \", xnuevo)\n",
    "    #Imprime los graficos de error relativo aproximado y error relativo absoluto \n",
    "    #en relacion a cuantos ciclos se demoro en llegas a un resultado\n",
    "    #Para ver el grafico de uno, se debe comentar la linea que imprime el del otro\n",
    "    #plot(x, erroresRelativosAprox)\n",
    "    #plot(x, erroresRelativosAbs)\n",
    "    \n",
    "end\n",
    "\n",
    "#caso de prueba 1 para comparar con el segundo metodo\n",
    "divideYPromedia(15, 5, 0.001)"
   ]
  },
  {
   "cell_type": "code",
   "execution_count": 15,
   "metadata": {},
   "outputs": [
    {
     "name": "stdout",
     "output_type": "stream",
     "text": [
      "El error relativo absoluto es: 1.7288292377884347, El error relativo aproximado es: 0.9304347826086956\n",
      "El error relativo absoluto es: 0.5476433798133955, El error relativo aproximado es: 0.7632157856142924\n",
      "El error relativo absoluto es: 0.0968935335379397, El error relativo aproximado es: 0.41093308739053214\n",
      "El error relativo absoluto es: 0.00427952055254927, El error relativo aproximado es: 0.09221935834600578\n",
      "El error relativo absoluto es: 9.118126868682204e-6, El error relativo aproximado es: 0.004270363487964529\n",
      "La raiz es: 10.535749818280301\n"
     ]
    }
   ],
   "source": [
    "#caso de prueba 2 para comparar con el segundo metodo\n",
    "divideYPromedia(111, 5, 0.001)"
   ]
  },
  {
   "cell_type": "code",
   "execution_count": 16,
   "metadata": {},
   "outputs": [
    {
     "name": "stdout",
     "output_type": "stream",
     "text": [
      "El error relativo absoluto es: 1.3345573944214997, El error relativo aproximado es: 0.9036144578313253\n",
      "El error relativo absoluto es: 0.38145205666413756, El error relativo aproximado es: 0.6899300870845086\n",
      "El error relativo absoluto es: 0.05266403232431398, El error relativo aproximado es: 0.31233899349049643\n",
      "El error relativo absoluto es: 0.0013173720272994943, El error relativo aproximado es: 0.05127910663634685\n",
      "El error relativo absoluto es: 8.665929040103959e-7, El error relativo aproximado es: 0.001316504293522205\n",
      "La raiz es: 8.8882021197618\n"
     ]
    }
   ],
   "source": [
    "#caso de prueba 3 para comparar con el segundo metodo\n",
    "divideYPromedia(79, 5, 0.001)"
   ]
  },
  {
   "cell_type": "code",
   "execution_count": null,
   "metadata": {},
   "outputs": [],
   "source": []
  }
 ],
 "metadata": {
  "kernelspec": {
   "display_name": "Julia 1.5.2",
   "language": "julia",
   "name": "julia-1.5"
  },
  "language_info": {
   "file_extension": ".jl",
   "mimetype": "application/julia",
   "name": "julia",
   "version": "1.5.2"
  }
 },
 "nbformat": 4,
 "nbformat_minor": 4
}
