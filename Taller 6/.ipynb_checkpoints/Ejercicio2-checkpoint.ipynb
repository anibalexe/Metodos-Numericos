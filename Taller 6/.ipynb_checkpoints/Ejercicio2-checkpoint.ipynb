{
 "cells": [
  {
   "cell_type": "code",
   "execution_count": 2,
   "metadata": {},
   "outputs": [
    {
     "name": "stdout",
     "output_type": "stream",
     "text": [
      "st: 2.712643144084068, sr: 0.14091273156963743, r al cuadrado: 0.9480533472023586 1.984176255764013 -0.5620318023820832\n"
     ]
    }
   ],
   "source": [
    "function minimosCuadradosLinearizado()\n",
    "    vectorX = [log10(10),log10(20),log10(30),log10(40),log10(50),log10(60),log10(70),log10(80)]\n",
    "    vectorY = [log10(25),log10(70),log10(380),log10(550),log10(610),log10(1220),log10(830),log10(1450)]\n",
    "    cont1 = 1\n",
    "    cont = 1\n",
    "    sumatoriaX = 0.0\n",
    "    sumatoriaY = 0.0\n",
    "    sumatoriaXcuadrado = 0.0\n",
    "    sumatoriaXY= 0.0\n",
    "    sr = 0.0\n",
    "    st = 0.0\n",
    "    rcuadrado = 0.0\n",
    "    n = 8\n",
    "    for i in vectorX\n",
    "        sumatoriaX += i\n",
    "        sumatoriaXcuadrado += i^2\n",
    "    end\n",
    "    \n",
    "    for i in vectorY\n",
    "        sumatoriaY += i\n",
    "    end\n",
    "    \n",
    "    while cont1 <= 8\n",
    "        sumatoriaXY += vectorX[cont1]*vectorY[cont1]\n",
    "        cont1 += 1\n",
    "    end\n",
    "\n",
    "    promedioX = sumatoriaX/n\n",
    "    promedioY = sumatoriaY/n\n",
    "    a1 = (n*sumatoriaXY - sumatoriaX*sumatoriaY)/(n*sumatoriaXcuadrado - (sumatoriaX^2))\n",
    "    a0 = promedioY - a1*promedioX\n",
    "\n",
    "    while cont <= 8\n",
    "        sr = sr + (vectorY[cont] - a0 - a1*vectorX[cont])^2\n",
    "        st = st + (vectorY[cont] - promedioY)^2\n",
    "        cont += 1\n",
    "    end\n",
    "    rcuadrado = (st - sr)/st\n",
    "    println(\"st: \",st,\", sr: \",sr,\", r al cuadrado: \",rcuadrado)\n",
    "end\n",
    "\n",
    "minimosCuadradosLinearizado()"
   ]
  },
  {
   "cell_type": "code",
   "execution_count": null,
   "metadata": {},
   "outputs": [],
   "source": []
  }
 ],
 "metadata": {
  "kernelspec": {
   "display_name": "Julia 1.5.2",
   "language": "julia",
   "name": "julia-1.5"
  },
  "language_info": {
   "file_extension": ".jl",
   "mimetype": "application/julia",
   "name": "julia",
   "version": "1.5.2"
  }
 },
 "nbformat": 4,
 "nbformat_minor": 4
}
