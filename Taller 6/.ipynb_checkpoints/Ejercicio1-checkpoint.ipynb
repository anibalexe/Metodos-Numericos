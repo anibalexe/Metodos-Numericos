{
 "cells": [
  {
   "cell_type": "code",
   "execution_count": 1,
   "metadata": {},
   "outputs": [
    {
     "name": "stdout",
     "output_type": "stream",
     "text": [
      "st: 1.808296875e6, sr: 216118.15476190473, r al cuadrado: 0.8804852467812262\n"
     ]
    }
   ],
   "source": [
    "function minimosCuadrados()\n",
    "    vectorX = [10,20,30,40,50,60,70,80]\n",
    "    vectorY = [25,70,380,550,610,1220,830,1450]\n",
    "    sumatoriaX = 0.0\n",
    "    sumatoriaY = 0.0\n",
    "    sumatoriaXcuadrado = 0.0\n",
    "    sumatoriaXY = 0.0\n",
    "    n = 8\n",
    "    cont = 1\n",
    "    cont1 = 1\n",
    "    sr = 0.0\n",
    "    st = 0.0\n",
    "    rcuadrado = 0.0\n",
    "    \n",
    "    for i in vectorX\n",
    "        sumatoriaX += i\n",
    "        sumatoriaXcuadrado += i^2\n",
    "    end\n",
    "    \n",
    "    for i in vectorY\n",
    "        sumatoriaY += i\n",
    "    end\n",
    "    \n",
    "    while cont1 <= 8\n",
    "        sumatoriaXY += vectorX[cont1]*vectorY[cont1]\n",
    "        cont1 += 1\n",
    "    end\n",
    "    \n",
    "    promedioX = sumatoriaX/n\n",
    "    promedioY = sumatoriaY/n\n",
    "    a1 = (n*sumatoriaXY - sumatoriaX*sumatoriaY)/(n*sumatoriaXcuadrado - (sumatoriaX^2))\n",
    "    a0 = promedioY - a1*promedioX\n",
    "\n",
    "    while cont <= 8\n",
    "        sr = sr + (vectorY[cont] - a0 - a1*vectorX[cont])^2\n",
    "        st = st + (vectorY[cont] - promedioY)^2\n",
    "        cont += 1\n",
    "    end\n",
    "    rcuadrado = (st - sr)/st\n",
    "    println(\"st: \",st,\", sr: \",sr,\", r al cuadrado: \",rcuadrado)\n",
    "end\n",
    "\n",
    "minimosCuadrados()"
   ]
  },
  {
   "cell_type": "code",
   "execution_count": null,
   "metadata": {},
   "outputs": [],
   "source": []
  },
  {
   "cell_type": "code",
   "execution_count": null,
   "metadata": {},
   "outputs": [],
   "source": []
  }
 ],
 "metadata": {
  "kernelspec": {
   "display_name": "Julia 1.5.2",
   "language": "julia",
   "name": "julia-1.5"
  },
  "language_info": {
   "file_extension": ".jl",
   "mimetype": "application/julia",
   "name": "julia",
   "version": "1.5.2"
  }
 },
 "nbformat": 4,
 "nbformat_minor": 4
}
