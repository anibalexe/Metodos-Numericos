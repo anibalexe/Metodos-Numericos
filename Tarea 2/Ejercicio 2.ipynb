{
 "cells": [
  {
   "cell_type": "code",
   "execution_count": 13,
   "metadata": {},
   "outputs": [
    {
     "name": "stdout",
     "output_type": "stream",
     "text": [
      "La evaluación de 3.4 es: 6.212288\n"
     ]
    }
   ],
   "source": [
    "function interpolacionPolinomialNewton()\n",
    "    x = [1 2 2.5 3 4 5]\n",
    "    y = [0 5 6.5 7 3 1]\n",
    "    fxx = []\n",
    "    fxxx = []\n",
    "    fxxxx = []\n",
    "    fxxxxx = []\n",
    "    fxxxxxx = 0.0\n",
    "    suma = 0.0\n",
    "    \n",
    "    cont = 1\n",
    "    #Establece los 5 valores de la primera columna\n",
    "    while cont <= 5\n",
    "        append!(fxx,[(y[cont+1]-y[cont])/(x[cont+1]-x[cont])])\n",
    "        cont += 1\n",
    "    end\n",
    "    \n",
    "    cont = 1\n",
    "    #Establece los 4 valores de la segunda columna\n",
    "    while cont <= 4\n",
    "        append!(fxxx,[(fxx[cont+1]-fxx[cont])/(x[cont+2]-x[cont])])\n",
    "        cont += 1\n",
    "    end\n",
    "    \n",
    "    cont = 1\n",
    "    #Establece los 3 valores de la tercera columna\n",
    "    while cont <= 3\n",
    "        append!(fxxxx,[(fxxx[cont+1]-fxxx[cont])/(x[cont+3]-x[cont])])\n",
    "        cont += 1\n",
    "    end\n",
    "    \n",
    "    cont = 1\n",
    "    #Establece los 2 valores de la cuarta columna\n",
    "    while cont <= 2\n",
    "        append!(fxxxxx,[(fxxxx[cont+1]-fxxxx[cont])/(x[cont+4]-x[cont])])\n",
    "        cont += 1\n",
    "    end\n",
    "    \n",
    "    #Establece el valor de la quinta columna\n",
    "    fxxxxxx = (fxxxxx[2]-fxxxxx[1])/(x[6]-x[1])\n",
    "\n",
    "    x = 3.4\n",
    "    #Evalua 3.4 en el polinomio de newton\n",
    "    evaluacion34 = 0 + (x-1)*fxx[1]+(x-1)*(x-2)*fxxx[1]+(x-1)*(x-2)*(x-2.5)*fxxxx[1]+(x-1)*(x-2)*(x-2.5)*(x-3)*fxxxxx[1]+(x-1)*(x-2)*(x-2.5)*(x-3)*(x-4)*fxxxxxx\n",
    "    println(\"La evaluación de 3.4 es: \", evaluacion34)\n",
    "    \n",
    "end\n",
    "\n",
    "interpolacionPolinomialNewton()"
   ]
  },
  {
   "cell_type": "code",
   "execution_count": 2,
   "metadata": {},
   "outputs": [
    {
     "name": "stdout",
     "output_type": "stream",
     "text": [
      "La evaluación de 3.4 es: 6.212288000000001\n"
     ]
    }
   ],
   "source": [
    "function interpolacionLagrange()\n",
    "    x = 3.4\n",
    "    #Calcula los 6 terminos que resultan de aplicar lagrange\n",
    "    termino1 = ((x-2)*(x-2.5)*(x-3)*(x-4)*(x-5))/((1-2)*(1-2.5)*(1-3)*(1-4)*(1-5))*0\n",
    "    termino2 = ((x-1)*(x-2.5)*(x-3)*(x-4)*(x-5))/((2-1)*(2-2.5)*(2-3)*(2-4)*(2-5))*5\n",
    "    termino3 = ((x-1)*(x-2)*(x-3)*(x-4)*(x-5))/((2.5-1)*(2.5-2)*(2.5-3)*(2.5-4)*(2.5-5))*6.5\n",
    "    termino4 = ((x-1)*(x-2)*(x-2.5)*(x-4)*(x-5))/((3-1)*(3-2)*(3-2.5)*(3-4)*(3-5))*7\n",
    "    termino5 = ((x-1)*(x-2)*(x-2.5)*(x-3)*(x-5))/((4-1)*(4-2)*(4-2.5)*(4-3)*(4-5))*3\n",
    "    termino6 = ((x-1)*(x-2)*(x-2.5)*(x-3)*(x-4))/((5-1)*(5-2)*(5-2.5)*(5-3)*(5-4))*1\n",
    "    #Suma todos los terminos para obtener la evaluacion de 3.4 en la funcion\n",
    "    f5 = termino1 + termino2 + termino3 + termino4 + termino5 + termino6 \n",
    "    println(\"La evaluación de 3.4 es: \",f5)\n",
    "    \n",
    "end\n",
    "\n",
    "interpolacionLagrange()"
   ]
  },
  {
   "cell_type": "code",
   "execution_count": null,
   "metadata": {},
   "outputs": [],
   "source": []
  }
 ],
 "metadata": {
  "kernelspec": {
   "display_name": "Julia 1.5.2",
   "language": "julia",
   "name": "julia-1.5"
  },
  "language_info": {
   "file_extension": ".jl",
   "mimetype": "application/julia",
   "name": "julia",
   "version": "1.5.2"
  }
 },
 "nbformat": 4,
 "nbformat_minor": 4
}
