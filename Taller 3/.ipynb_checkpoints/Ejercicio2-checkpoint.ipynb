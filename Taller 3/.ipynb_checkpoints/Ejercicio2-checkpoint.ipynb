{
 "cells": [
  {
   "cell_type": "code",
   "execution_count": null,
   "metadata": {},
   "outputs": [
    {
     "name": "stderr",
     "output_type": "stream",
     "text": [
      "\u001b[32m\u001b[1m   Updating\u001b[22m\u001b[39m registry at `C:\\Users\\aniba\\.julia\\registries\\General`\n"
     ]
    }
   ],
   "source": [
    "using Pkg\n",
    "Pkg.add(\"Plots\")\n",
    "using Plots\n",
    "\n",
    "function graficar()\n",
    "    f(x) = sin(exp(1)*x^3 + cos(3*exp(1)*x^5))\n",
    "    Plots.scatter(f)\n",
    "    #la funcion tiene muchas raices, asi que solo tomamos de referencia 3 cercanas al 0\n",
    "    raices = [-0.63, 0.93, 0.97]\n",
    "    plot([f,zero],-1.5, 1.5)\n",
    "    scatter!(raices, [0, 0, 0])\n",
    "    \n",
    "end\n",
    "\n",
    "graficar()"
   ]
  },
  {
   "cell_type": "code",
   "execution_count": 33,
   "metadata": {},
   "outputs": [
    {
     "name": "stdout",
     "output_type": "stream",
     "text": [
      "El valor final es: -1.492679146770408e-10\n"
     ]
    }
   ],
   "source": [
    "function metodoNR()\n",
    "    f(x) = sin(exp(1)*x^3 + cos(3*exp(1)*x^5))\n",
    "    f2(x) = cos((exp(1)*x^3)+cos(3*exp(1)*x^5))*((3*exp(1)*x^2)-(sin(3*exp(1)*x^5)*(15*exp(1)*x^4)))\n",
    "    x = 10.0\n",
    "    x2 = 0.0\n",
    "    evaluacionf = 0.0\n",
    "    evaluacionf2 = 0.0\n",
    "    cont = 0.0\n",
    "    \n",
    "    while cont <= 3\n",
    "        cont += 1\n",
    "        evaluacionf = sin(exp(1)*x^3 + cos(3*exp(1)*x^5))\n",
    "        evaluacionf2 = cos((exp(1)*x^3) + cos(3*exp(1)*x^5))*((3*exp(1)*x^2)-(sin(3*exp(1)*x^5)*(15*exp(1)*x^4)))\n",
    "        x2 = x - (evaluacionf/evaluacionf2)\n",
    "        x = x2\n",
    "    end\n",
    "    println(\"El valor final es: \",evaluacionf)\n",
    "end\n",
    "\n",
    "metodoNR()"
   ]
  },
  {
   "cell_type": "code",
   "execution_count": 36,
   "metadata": {},
   "outputs": [
    {
     "name": "stdout",
     "output_type": "stream",
     "text": [
      "El valor final es: 3.2993514120675322\n"
     ]
    }
   ],
   "source": [
    "function metodoSec()\n",
    "    f(x) = sin(exp(1)*x^3 + cos(3*exp(1)*x^5))\n",
    "    x0 = 2.5 \n",
    "    x1 = 3.0\n",
    "    error = 1.0\n",
    "    \n",
    "    while error > 0.1\n",
    "        g = x1 - (sin(exp(1)*x1^3 + cos(3*exp(1)*x1^5)))*(x0-x1)/(sin(exp(1)*x0^3 + cos(3*exp(1)*x0^5))-(sin(exp(1)*x1^3 + cos(3*exp(1)*x1^5))))\n",
    "        x0 = x1\n",
    "        x1 = g\n",
    "        error = (x1-x0)/x0\n",
    "    end\n",
    "    println(\"El valor final es: \",x1)\n",
    "end\n",
    "\n",
    "metodoSec()"
   ]
  },
  {
   "cell_type": "code",
   "execution_count": null,
   "metadata": {},
   "outputs": [],
   "source": []
  }
 ],
 "metadata": {
  "kernelspec": {
   "display_name": "Julia 1.5.2",
   "language": "julia",
   "name": "julia-1.5"
  },
  "language_info": {
   "file_extension": ".jl",
   "mimetype": "application/julia",
   "name": "julia",
   "version": "1.5.2"
  }
 },
 "nbformat": 4,
 "nbformat_minor": 4
}
