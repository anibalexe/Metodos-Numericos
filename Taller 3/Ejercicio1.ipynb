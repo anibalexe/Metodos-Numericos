{
 "cells": [
  {
   "cell_type": "code",
   "execution_count": 9,
   "metadata": {
    "scrolled": true
   },
   "outputs": [
    {
     "name": "stdout",
     "output_type": "stream",
     "text": [
      "Con 10 iteraciones, el metodo Punto Fijo llego a que el error aproximado porcentual diverge\n",
      "Con 5 iteraciones, el metodo Newton-Raphson llego a que el error aproximado porcentual es menor al 0.01%\n"
     ]
    }
   ],
   "source": [
    "function metodoPF()\n",
    "    f(x) = (-0.9*x^2)+(1.7*x)+2.5\n",
    "    x = 5.0\n",
    "    error_aproximado = 1.0\n",
    "    cont = 0\n",
    "    \n",
    "    while error_aproximado >= 0.0001\n",
    "        cont += 1\n",
    "        g = (-0.9*x^2) + (1.7*x) + 2.5 + x\n",
    "        if abs(g) == Inf\n",
    "            println(\"Con \",cont,\" iteraciones, el metodo Punto Fijo llego a que el error aproximado porcentual diverge\")\n",
    "            break\n",
    "            \n",
    "            elseif abs(x) == Inf\n",
    "                println(\"Con \",cont,\" iteraciones, el metodo Punto Fijo llego a que el error aproximado porcentual diverge\")\n",
    "                break\n",
    "            \n",
    "        end\n",
    "        error_aproximado = abs(g-x)/abs(g)\n",
    "        if abs(error_aproximado) == Inf\n",
    "            println(\"Con \",cont,\" iteraciones, el metodo Punto Fijo llego a que el error aproximado porcentual diverge\")\n",
    "            break\n",
    "            \n",
    "        end\n",
    "        x = g\n",
    "        \n",
    "    end\n",
    "    \n",
    "    if error_aproximado < 0.0001\n",
    "        println(\"Con \",cont,\" iteraciones, el metodo Punto Fijo llego a que el error aproximado porcentual es menor al 0.01%\")\n",
    "    end\n",
    "end\n",
    "\n",
    "function metodoNR()\n",
    "    x = 5\n",
    "    f(x) = (-0.9*x^2)+(1.7*x)+2.5\n",
    "    f2(x) = (-1.8*x) + 1.7\n",
    "    error_aproximado = 1.0\n",
    "    cont = 0\n",
    "    \n",
    "    while error_aproximado >= 0.0001\n",
    "        cont += 1\n",
    "        g = x - ((-0.9*x^2)+(1.7*x)+2.5)/((-1.8*x) + 1.7)\n",
    "        error_aproximado = abs(g-x)/abs(g)\n",
    "        x = g\n",
    "        #println(g,\" \",error_aproximado,\" \",x)\n",
    "        \n",
    "    end\n",
    "    println(\"Con \",cont,\" iteraciones, el metodo Newton-Raphson llego a que el error aproximado porcentual es menor al 0.01%\")\n",
    "    \n",
    "end\n",
    "\n",
    "metodoPF();\n",
    "metodoNR();\n"
   ]
  },
  {
   "cell_type": "code",
   "execution_count": null,
   "metadata": {},
   "outputs": [],
   "source": []
  }
 ],
 "metadata": {
  "kernelspec": {
   "display_name": "Julia 1.5.0",
   "language": "julia",
   "name": "julia-1.5"
  },
  "language_info": {
   "file_extension": ".jl",
   "mimetype": "application/julia",
   "name": "julia",
   "version": "1.5.0"
  }
 },
 "nbformat": 4,
 "nbformat_minor": 4
}
